{
  "nbformat": 4,
  "nbformat_minor": 0,
  "metadata": {
    "colab": {
      "provenance": []
    },
    "kernelspec": {
      "name": "python3",
      "display_name": "Python 3"
    },
    "language_info": {
      "name": "python"
    }
  },
  "cells": [
    {
      "cell_type": "code",
      "execution_count": 1,
      "metadata": {
        "colab": {
          "base_uri": "https://localhost:8080/"
        },
        "id": "_JSxlxh_uIto",
        "outputId": "26135455-5784-4b98-ee14-3b57c52fabf4"
      },
      "outputs": [
        {
          "output_type": "stream",
          "name": "stdout",
          "text": [
            "Volume bola dengan radius 5 adalah : 523.5987755982989\n"
          ]
        }
      ],
      "source": [
        "import math\n",
        "\n",
        "# Tentukan nilai jari-jari bola\n",
        "r = 5\n",
        "\n",
        "# Hitung volume bola dengan menggunakan rumus (formula) V = (4/3) * pi * r^3\n",
        "V = (4/3) * math.pi * r**3\n",
        "\n",
        "# Cetak hasilnya\n",
        "print(\"Volume bola dengan radius 5 adalah :\", V)\n"
      ]
    }
  ]
}